{
 "cells": [
  {
   "cell_type": "markdown",
   "id": "80fe2357",
   "metadata": {},
   "source": [
    "# Initial Basics"
   ]
  },
  {
   "cell_type": "code",
   "execution_count": 1,
   "id": "a8f48239",
   "metadata": {},
   "outputs": [
    {
     "name": "stdout",
     "output_type": "stream",
     "text": [
      "Hello World\n"
     ]
    }
   ],
   "source": [
    "print ('Hello World')"
   ]
  },
  {
   "cell_type": "markdown",
   "id": "91a1fc78",
   "metadata": {},
   "source": [
    "## Integer Variables"
   ]
  },
  {
   "cell_type": "code",
   "execution_count": 6,
   "id": "7a499790",
   "metadata": {},
   "outputs": [],
   "source": [
    "x = 1"
   ]
  },
  {
   "cell_type": "code",
   "execution_count": 7,
   "id": "22109bd2",
   "metadata": {},
   "outputs": [],
   "source": [
    "y = 2"
   ]
  },
  {
   "cell_type": "markdown",
   "id": "de68de63",
   "metadata": {},
   "source": [
    "### Combining Variables"
   ]
  },
  {
   "cell_type": "code",
   "execution_count": 10,
   "id": "b9687944",
   "metadata": {
    "scrolled": true
   },
   "outputs": [
    {
     "name": "stdout",
     "output_type": "stream",
     "text": [
      "3\n"
     ]
    }
   ],
   "source": [
    "z = x + y\n",
    "print(z)"
   ]
  },
  {
   "cell_type": "markdown",
   "id": "0c4575cb",
   "metadata": {},
   "source": [
    "## String Variables"
   ]
  },
  {
   "cell_type": "code",
   "execution_count": 1,
   "id": "b6b5fd3b",
   "metadata": {},
   "outputs": [],
   "source": [
    "test1 = 'I am a string'"
   ]
  },
  {
   "cell_type": "code",
   "execution_count": 2,
   "id": "9d2f6429",
   "metadata": {},
   "outputs": [],
   "source": [
    "test2 = 'and I am also a string'"
   ]
  },
  {
   "cell_type": "code",
   "execution_count": 3,
   "id": "bb63c2d8",
   "metadata": {},
   "outputs": [],
   "source": [
    "integer_a = 5"
   ]
  },
  {
   "cell_type": "code",
   "execution_count": 4,
   "id": "da990252",
   "metadata": {},
   "outputs": [],
   "source": [
    "integer_b = 10"
   ]
  },
  {
   "cell_type": "code",
   "execution_count": 5,
   "id": "c0a330ac",
   "metadata": {},
   "outputs": [
    {
     "ename": "NameError",
     "evalue": "name 'test' is not defined",
     "output_type": "error",
     "traceback": [
      "\u001b[0;31m---------------------------------------------------------------------------\u001b[0m",
      "\u001b[0;31mNameError\u001b[0m                                 Traceback (most recent call last)",
      "Cell \u001b[0;32mIn [5], line 1\u001b[0m\n\u001b[0;32m----> 1\u001b[0m combined_wrong \u001b[38;5;241m=\u001b[39m test \u001b[38;5;241m+\u001b[39m integer_a\n\u001b[1;32m      2\u001b[0m \u001b[38;5;28mprint\u001b[39m(combined_wrong)\n",
      "\u001b[0;31mNameError\u001b[0m: name 'test' is not defined"
     ]
    }
   ],
   "source": [
    "combined_wrong = test + integer_a\n",
    "print(combined_wrong)\n",
    "#different types don't play nice!!"
   ]
  },
  {
   "cell_type": "code",
   "execution_count": null,
   "id": "43190794",
   "metadata": {},
   "outputs": [],
   "source": [
    "combined_true = integer_a + integer_b\n",
    "print(combined_true)"
   ]
  },
  {
   "cell_type": "code",
   "execution_count": 7,
   "id": "02d69866",
   "metadata": {},
   "outputs": [
    {
     "name": "stdout",
     "output_type": "stream",
     "text": [
      "I am a string and I am also a string\n"
     ]
    }
   ],
   "source": [
    "combo_string = (f'{test1} {test2}')\n",
    "print(combo_string)"
   ]
  },
  {
   "cell_type": "markdown",
   "id": "0104b2f9",
   "metadata": {},
   "source": [
    "## Lists and Tuples"
   ]
  },
  {
   "cell_type": "markdown",
   "id": "1176b63a",
   "metadata": {},
   "source": [
    "### Lists (notice the SQUARE brackets)"
   ]
  },
  {
   "cell_type": "code",
   "execution_count": 4,
   "id": "5e5d6da0",
   "metadata": {},
   "outputs": [],
   "source": [
    "lst = [1,2,3,4,5]"
   ]
  },
  {
   "cell_type": "code",
   "execution_count": 13,
   "id": "5cb4777f",
   "metadata": {},
   "outputs": [
    {
     "name": "stdout",
     "output_type": "stream",
     "text": [
      "[1, 2, 3, 4, 5]\n",
      "1\n",
      "2\n",
      "3\n"
     ]
    }
   ],
   "source": [
    "print(lst)"
   ]
  },
  {
   "cell_type": "markdown",
   "id": "5ef117be",
   "metadata": {},
   "source": [
    "### Computers are 0 Indexed "
   ]
  },
  {
   "cell_type": "code",
   "execution_count": null,
   "id": "3fa72500",
   "metadata": {},
   "outputs": [],
   "source": [
    "print(lst[0])\n",
    "print(lst[1])\n",
    "print(lst[2])"
   ]
  },
  {
   "cell_type": "code",
   "execution_count": 16,
   "id": "fc9e9530",
   "metadata": {},
   "outputs": [],
   "source": [
    "lst.append(6)"
   ]
  },
  {
   "cell_type": "code",
   "execution_count": 17,
   "id": "7618408f",
   "metadata": {},
   "outputs": [
    {
     "name": "stdout",
     "output_type": "stream",
     "text": [
      "[1, 2, 3, 4, 5, 4, 6]\n"
     ]
    }
   ],
   "source": [
    "print(lst)"
   ]
  },
  {
   "cell_type": "markdown",
   "id": "20bd7f08",
   "metadata": {},
   "source": [
    "### Tuples (notice the PARENTHESES)"
   ]
  },
  {
   "cell_type": "code",
   "execution_count": 8,
   "id": "c203e4ff",
   "metadata": {},
   "outputs": [],
   "source": [
    "tpl = (1,2,3,4,5)"
   ]
  },
  {
   "cell_type": "code",
   "execution_count": 9,
   "id": "c2e6f96a",
   "metadata": {},
   "outputs": [
    {
     "name": "stdout",
     "output_type": "stream",
     "text": [
      "(1, 2, 3, 4, 5)\n"
     ]
    }
   ],
   "source": [
    "print(tpl)"
   ]
  },
  {
   "cell_type": "code",
   "execution_count": 10,
   "id": "2019f1b6",
   "metadata": {},
   "outputs": [
    {
     "name": "stdout",
     "output_type": "stream",
     "text": [
      "1\n"
     ]
    }
   ],
   "source": [
    "print(tpl[0])"
   ]
  },
  {
   "cell_type": "code",
   "execution_count": 19,
   "id": "d04430ff",
   "metadata": {
    "scrolled": true
   },
   "outputs": [
    {
     "ename": "AttributeError",
     "evalue": "'tuple' object has no attribute 'append'",
     "output_type": "error",
     "traceback": [
      "\u001b[0;31m---------------------------------------------------------------------------\u001b[0m",
      "\u001b[0;31mAttributeError\u001b[0m                            Traceback (most recent call last)",
      "Cell \u001b[0;32mIn [19], line 1\u001b[0m\n\u001b[0;32m----> 1\u001b[0m tpl\u001b[38;5;241m.\u001b[39mappend(\u001b[38;5;241m6\u001b[39m)\n",
      "\u001b[0;31mAttributeError\u001b[0m: 'tuple' object has no attribute 'append'"
     ]
    }
   ],
   "source": [
    "tpl.append(6)"
   ]
  },
  {
   "cell_type": "markdown",
   "id": "c172c8c7",
   "metadata": {},
   "source": [
    "# More Complex ideas"
   ]
  },
  {
   "cell_type": "markdown",
   "id": "34029325",
   "metadata": {},
   "source": [
    "## For Loops"
   ]
  },
  {
   "cell_type": "code",
   "execution_count": 20,
   "id": "edfe7dd6",
   "metadata": {},
   "outputs": [
    {
     "name": "stdout",
     "output_type": "stream",
     "text": [
      "0\n",
      "1\n",
      "2\n",
      "3\n",
      "4\n"
     ]
    }
   ],
   "source": [
    "for i in range(5):\n",
    "    print(i)"
   ]
  },
  {
   "cell_type": "code",
   "execution_count": 22,
   "id": "642607c3",
   "metadata": {},
   "outputs": [
    {
     "name": "stdout",
     "output_type": "stream",
     "text": [
      "[1, 2, 3, 4, 5, 4, 6]\n",
      "1\n",
      "2\n",
      "3\n",
      "4\n",
      "5\n",
      "4\n",
      "6\n"
     ]
    }
   ],
   "source": [
    "print(lst)\n",
    "for i in lst:\n",
    "    print(i)"
   ]
  },
  {
   "cell_type": "code",
   "execution_count": 24,
   "id": "b4c2b3c0",
   "metadata": {},
   "outputs": [
    {
     "name": "stdout",
     "output_type": "stream",
     "text": [
      "[1, 2, 3, 4, 5, 4, 6, 1, 2, 3, 4, 5, 1, 2, 3, 4, 5]\n"
     ]
    }
   ],
   "source": [
    "print(lst)\n",
    "print(tpl)\n",
    "for i in tpl:\n",
    "    lst.append(i)\n",
    "print(lst)"
   ]
  },
  {
   "cell_type": "code",
   "execution_count": 25,
   "id": "fedd6759",
   "metadata": {},
   "outputs": [
    {
     "name": "stdout",
     "output_type": "stream",
     "text": [
      "[1, 2, 3, 4, 5, 4, 6, 1, 2, 3, 4, 5, 1, 2, 3, 4, 5]\n",
      "(1, 2, 3, 4, 5)\n"
     ]
    },
    {
     "ename": "AttributeError",
     "evalue": "'tuple' object has no attribute 'append'",
     "output_type": "error",
     "traceback": [
      "\u001b[0;31m---------------------------------------------------------------------------\u001b[0m",
      "\u001b[0;31mAttributeError\u001b[0m                            Traceback (most recent call last)",
      "Cell \u001b[0;32mIn [25], line 4\u001b[0m\n\u001b[1;32m      2\u001b[0m \u001b[38;5;28mprint\u001b[39m(tpl)\n\u001b[1;32m      3\u001b[0m \u001b[38;5;28;01mfor\u001b[39;00m i \u001b[38;5;129;01min\u001b[39;00m lst:\n\u001b[0;32m----> 4\u001b[0m     tpl\u001b[38;5;241m.\u001b[39mappend(i)\n\u001b[1;32m      5\u001b[0m \u001b[38;5;28mprint\u001b[39m(lst)\n",
      "\u001b[0;31mAttributeError\u001b[0m: 'tuple' object has no attribute 'append'"
     ]
    }
   ],
   "source": [
    "print(lst)\n",
    "print(tpl)\n",
    "for i in lst:\n",
    "    tpl.append(i)\n",
    "print(lst)"
   ]
  },
  {
   "cell_type": "markdown",
   "id": "936ba07d",
   "metadata": {},
   "source": [
    "## If / else statements "
   ]
  },
  {
   "cell_type": "code",
   "execution_count": 17,
   "id": "36c779a6",
   "metadata": {},
   "outputs": [],
   "source": [
    "fruit1 = 'apple'\n",
    "fruit2 = 'pear'\n",
    "car1 = 'honda'\n",
    "car2 = 'toyota'\n",
    "car3 = 'chevy'\n",
    "chips = 'lays'\n",
    "sandwich = 'ham'\n",
    "side = 'potato salad'\n",
    "drink = 'rum'\n",
    "items = [fruit1, fruit2, car1, car2, car3, chips, sandwich, side, drink]"
   ]
  },
  {
   "cell_type": "code",
   "execution_count": 18,
   "id": "736f09f3",
   "metadata": {
    "scrolled": false
   },
   "outputs": [
    {
     "name": "stdout",
     "output_type": "stream",
     "text": [
      "['apple', 'pear', 'honda', 'toyota', 'chevy', 'lays', 'ham', 'potato salad', 'rum']\n"
     ]
    }
   ],
   "source": [
    "print(items)"
   ]
  },
  {
   "cell_type": "code",
   "execution_count": 20,
   "id": "7c62bbff",
   "metadata": {},
   "outputs": [],
   "source": [
    "cars = []\n",
    "food = []\n",
    "for item in items:\n",
    "    if item == 'apple':\n",
    "        food.append(item)\n",
    "    elif item == 'pear':\n",
    "        food.append(item)\n",
    "    elif item == 'lays':\n",
    "        food.append(item)\n",
    "    elif item == 'ham':\n",
    "        food.append(item)\n",
    "    elif item == 'rum':\n",
    "        food.append(item)\n",
    "    elif item =='potato salad':\n",
    "        food.append(item)\n",
    "    else:\n",
    "        cars.append(item)"
   ]
  },
  {
   "cell_type": "code",
   "execution_count": 21,
   "id": "ee6a54ce",
   "metadata": {},
   "outputs": [
    {
     "name": "stdout",
     "output_type": "stream",
     "text": [
      "['honda', 'toyota', 'chevy']\n",
      "['apple', 'pear', 'lays', 'ham', 'potato salad', 'rum']\n"
     ]
    }
   ],
   "source": [
    "print(cars)\n",
    "print(food)"
   ]
  },
  {
   "cell_type": "markdown",
   "id": "edc21899",
   "metadata": {},
   "source": [
    "## While Loops"
   ]
  },
  {
   "cell_type": "markdown",
   "id": "8f9ddb24",
   "metadata": {},
   "source": [
    "## List Comprehension (Slightly more complex!)"
   ]
  },
  {
   "cell_type": "code",
   "execution_count": 5,
   "id": "3398ecef",
   "metadata": {},
   "outputs": [
    {
     "name": "stdout",
     "output_type": "stream",
     "text": [
      "[3, 5]\n"
     ]
    }
   ],
   "source": [
    "lst = [0,1,2,3,4,5,6,7,8,9,10]\n",
    "print(lst)\n",
    "new_list = [x for x in lst if x == 5 or x == 3]\n",
    "print(new_list)"
   ]
  },
  {
   "cell_type": "code",
   "execution_count": 3,
   "id": "4120ba4c",
   "metadata": {},
   "outputs": [
    {
     "name": "stdout",
     "output_type": "stream",
     "text": [
      "10\n",
      "9\n",
      "8\n",
      "7\n",
      "6\n",
      "5\n",
      "4\n",
      "3\n",
      "2\n"
     ]
    }
   ],
   "source": [
    "x = 10\n",
    "storage = []\n",
    "while x >=2:\n",
    "    print(x)\n",
    "    x = x-1"
   ]
  },
  {
   "cell_type": "code",
   "execution_count": null,
   "id": "718044d7",
   "metadata": {},
   "outputs": [],
   "source": []
  }
 ],
 "metadata": {
  "kernelspec": {
   "display_name": "Python 3 (ipykernel)",
   "language": "python",
   "name": "python3"
  },
  "language_info": {
   "codemirror_mode": {
    "name": "ipython",
    "version": 3
   },
   "file_extension": ".py",
   "mimetype": "text/x-python",
   "name": "python",
   "nbconvert_exporter": "python",
   "pygments_lexer": "ipython3",
   "version": "3.8.13"
  }
 },
 "nbformat": 4,
 "nbformat_minor": 5
}
