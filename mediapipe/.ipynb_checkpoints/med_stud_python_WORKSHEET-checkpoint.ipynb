{
 "cells": [
  {
   "cell_type": "markdown",
   "id": "a43e276c",
   "metadata": {},
   "source": [
    "# Initial Basics"
   ]
  },
  {
   "cell_type": "code",
   "execution_count": 57,
   "id": "7e5f621f",
   "metadata": {},
   "outputs": [
    {
     "ename": "SyntaxError",
     "evalue": "Missing parentheses in call to 'print'. Did you mean print('Hello World')? (729776420.py, line 1)",
     "output_type": "error",
     "traceback": [
      "\u001b[0;36m  Cell \u001b[0;32mIn [57], line 1\u001b[0;36m\u001b[0m\n\u001b[0;31m    print 'Hello World'\u001b[0m\n\u001b[0m          ^\u001b[0m\n\u001b[0;31mSyntaxError\u001b[0m\u001b[0;31m:\u001b[0m Missing parentheses in call to 'print'. Did you mean print('Hello World')?\n"
     ]
    }
   ],
   "source": [
    "print 'Hello World'"
   ]
  },
  {
   "cell_type": "markdown",
   "id": "1b6d52a5",
   "metadata": {},
   "source": [
    "## Integer Variables"
   ]
  },
  {
   "cell_type": "code",
   "execution_count": 58,
   "id": "ff8901ab",
   "metadata": {},
   "outputs": [],
   "source": [
    "x = 1"
   ]
  },
  {
   "cell_type": "code",
   "execution_count": 59,
   "id": "5f5fd9ed",
   "metadata": {},
   "outputs": [],
   "source": [
    "y = 2"
   ]
  },
  {
   "cell_type": "code",
   "execution_count": 60,
   "id": "5e7766e7",
   "metadata": {},
   "outputs": [],
   "source": [
    "x = y "
   ]
  },
  {
   "cell_type": "markdown",
   "id": "c9e517c4",
   "metadata": {},
   "source": [
    "### Combining Variables: Predict z!!!  If wrong, why??\n"
   ]
  },
  {
   "cell_type": "code",
   "execution_count": 61,
   "id": "85045dcd",
   "metadata": {
    "scrolled": false
   },
   "outputs": [
    {
     "name": "stdout",
     "output_type": "stream",
     "text": [
      "4\n"
     ]
    }
   ],
   "source": [
    "z = x + y\n",
    "print(z)"
   ]
  },
  {
   "cell_type": "markdown",
   "id": "7c796451",
   "metadata": {},
   "source": [
    "# Change b to make z equals to 3 "
   ]
  },
  {
   "cell_type": "code",
   "execution_count": 62,
   "id": "d1442e4f",
   "metadata": {},
   "outputs": [
    {
     "ename": "SyntaxError",
     "evalue": "invalid syntax (1583645713.py, line 1)",
     "output_type": "error",
     "traceback": [
      "\u001b[0;36m  Cell \u001b[0;32mIn [62], line 1\u001b[0;36m\u001b[0m\n\u001b[0;31m    b = ??\u001b[0m\n\u001b[0m        ^\u001b[0m\n\u001b[0;31mSyntaxError\u001b[0m\u001b[0;31m:\u001b[0m invalid syntax\n"
     ]
    }
   ],
   "source": [
    "b = ??"
   ]
  },
  {
   "cell_type": "code",
   "execution_count": 63,
   "id": "4f509b78",
   "metadata": {},
   "outputs": [],
   "source": [
    "a = 2 "
   ]
  },
  {
   "cell_type": "code",
   "execution_count": 64,
   "id": "7d9287c5",
   "metadata": {},
   "outputs": [
    {
     "ename": "NameError",
     "evalue": "name 'b' is not defined",
     "output_type": "error",
     "traceback": [
      "\u001b[0;31m---------------------------------------------------------------------------\u001b[0m",
      "\u001b[0;31mNameError\u001b[0m                                 Traceback (most recent call last)",
      "Cell \u001b[0;32mIn [64], line 1\u001b[0m\n\u001b[0;32m----> 1\u001b[0m z \u001b[38;5;241m=\u001b[39m a \u001b[38;5;241m+\u001b[39m b\n\u001b[1;32m      2\u001b[0m \u001b[38;5;28mprint\u001b[39m(z)\n",
      "\u001b[0;31mNameError\u001b[0m: name 'b' is not defined"
     ]
    }
   ],
   "source": [
    "z = a + b\n",
    "print(z)"
   ]
  },
  {
   "cell_type": "markdown",
   "id": "efc1a842",
   "metadata": {},
   "source": [
    "## String Variables: Make test1 and test2 strings and combine them!"
   ]
  },
  {
   "cell_type": "code",
   "execution_count": 65,
   "id": "fa31272a",
   "metadata": {},
   "outputs": [
    {
     "ename": "SyntaxError",
     "evalue": "invalid syntax (1065565313.py, line 1)",
     "output_type": "error",
     "traceback": [
      "\u001b[0;36m  Cell \u001b[0;32mIn [65], line 1\u001b[0;36m\u001b[0m\n\u001b[0;31m    test1 = I am a string\u001b[0m\n\u001b[0m              ^\u001b[0m\n\u001b[0;31mSyntaxError\u001b[0m\u001b[0;31m:\u001b[0m invalid syntax\n"
     ]
    }
   ],
   "source": [
    "test1 = I am a string"
   ]
  },
  {
   "cell_type": "code",
   "execution_count": 66,
   "id": "e12961f8",
   "metadata": {},
   "outputs": [
    {
     "ename": "SyntaxError",
     "evalue": "invalid syntax (4290834224.py, line 1)",
     "output_type": "error",
     "traceback": [
      "\u001b[0;36m  Cell \u001b[0;32mIn [66], line 1\u001b[0;36m\u001b[0m\n\u001b[0;31m    test2 = and I am also a string\u001b[0m\n\u001b[0m            ^\u001b[0m\n\u001b[0;31mSyntaxError\u001b[0m\u001b[0;31m:\u001b[0m invalid syntax\n"
     ]
    }
   ],
   "source": [
    "test2 = and I am also a string"
   ]
  },
  {
   "cell_type": "code",
   "execution_count": 67,
   "id": "1a7b8ce3",
   "metadata": {},
   "outputs": [
    {
     "ename": "SyntaxError",
     "evalue": "invalid syntax (2406412252.py, line 1)",
     "output_type": "error",
     "traceback": [
      "\u001b[0;36m  Cell \u001b[0;32mIn [67], line 1\u001b[0;36m\u001b[0m\n\u001b[0;31m    combined_string = (????)\u001b[0m\n\u001b[0m                       ^\u001b[0m\n\u001b[0;31mSyntaxError\u001b[0m\u001b[0;31m:\u001b[0m invalid syntax\n"
     ]
    }
   ],
   "source": [
    "combined_string = (????)\n",
    "print(combo)"
   ]
  },
  {
   "cell_type": "markdown",
   "id": "dddb8fe8",
   "metadata": {},
   "source": [
    "# # Ints: Make integer_a and integer_b ints and combine them"
   ]
  },
  {
   "cell_type": "code",
   "execution_count": 68,
   "id": "0ac970d5",
   "metadata": {},
   "outputs": [
    {
     "ename": "SyntaxError",
     "evalue": "invalid syntax (1170412015.py, line 1)",
     "output_type": "error",
     "traceback": [
      "\u001b[0;36m  Cell \u001b[0;32mIn [68], line 1\u001b[0;36m\u001b[0m\n\u001b[0;31m    integer_a = 5O\u001b[0m\n\u001b[0m                 ^\u001b[0m\n\u001b[0;31mSyntaxError\u001b[0m\u001b[0;31m:\u001b[0m invalid syntax\n"
     ]
    }
   ],
   "source": [
    "integer_a = 5O"
   ]
  },
  {
   "cell_type": "code",
   "execution_count": 69,
   "id": "a0c7728f",
   "metadata": {},
   "outputs": [],
   "source": [
    "integer_b = '10'"
   ]
  },
  {
   "cell_type": "code",
   "execution_count": 70,
   "id": "c50446a7",
   "metadata": {},
   "outputs": [
    {
     "ename": "SyntaxError",
     "evalue": "invalid syntax (1127326546.py, line 1)",
     "output_type": "error",
     "traceback": [
      "\u001b[0;36m  Cell \u001b[0;32mIn [70], line 1\u001b[0;36m\u001b[0m\n\u001b[0;31m    combined_int =\u001b[0m\n\u001b[0m                   ^\u001b[0m\n\u001b[0;31mSyntaxError\u001b[0m\u001b[0;31m:\u001b[0m invalid syntax\n"
     ]
    }
   ],
   "source": [
    "combined_int = \n",
    "print(combined_true)"
   ]
  },
  {
   "cell_type": "markdown",
   "id": "1e31cd73",
   "metadata": {},
   "source": [
    "## Lists and Tuples"
   ]
  },
  {
   "cell_type": "markdown",
   "id": "e2448e88",
   "metadata": {},
   "source": [
    "### Make a list with the numbers 9-14, and print it to console"
   ]
  },
  {
   "cell_type": "code",
   "execution_count": 71,
   "id": "0061c414",
   "metadata": {},
   "outputs": [
    {
     "ename": "SyntaxError",
     "evalue": "invalid syntax (232708904.py, line 1)",
     "output_type": "error",
     "traceback": [
      "\u001b[0;36m  Cell \u001b[0;32mIn [71], line 1\u001b[0;36m\u001b[0m\n\u001b[0;31m    lst =\u001b[0m\n\u001b[0m          ^\u001b[0m\n\u001b[0;31mSyntaxError\u001b[0m\u001b[0;31m:\u001b[0m invalid syntax\n"
     ]
    }
   ],
   "source": [
    "lst = "
   ]
  },
  {
   "cell_type": "code",
   "execution_count": 72,
   "id": "a28b7e81",
   "metadata": {},
   "outputs": [
    {
     "name": "stdout",
     "output_type": "stream",
     "text": [
      "\n"
     ]
    }
   ],
   "source": [
    "print()"
   ]
  },
  {
   "cell_type": "markdown",
   "id": "2b1f598a",
   "metadata": {},
   "source": [
    "### In 3 lines, print the numbers 10, 11, 12 to console"
   ]
  },
  {
   "cell_type": "code",
   "execution_count": 73,
   "id": "7160ce1c",
   "metadata": {},
   "outputs": [
    {
     "name": "stdout",
     "output_type": "stream",
     "text": [
      "\n",
      "\n",
      "\n"
     ]
    }
   ],
   "source": [
    "print()\n",
    "print()\n",
    "print()"
   ]
  },
  {
   "cell_type": "markdown",
   "id": "53e3afba",
   "metadata": {},
   "source": [
    "### Append the number 15 to your list and print it out again"
   ]
  },
  {
   "cell_type": "code",
   "execution_count": null,
   "id": "adfe58a7",
   "metadata": {},
   "outputs": [],
   "source": []
  },
  {
   "cell_type": "code",
   "execution_count": null,
   "id": "d621e255",
   "metadata": {},
   "outputs": [],
   "source": []
  },
  {
   "cell_type": "markdown",
   "id": "efe51341",
   "metadata": {},
   "source": [
    "### Make a tuple with the numbers 10-15 and print it out\n",
    "\n"
   ]
  },
  {
   "cell_type": "code",
   "execution_count": 74,
   "id": "edb446db",
   "metadata": {},
   "outputs": [
    {
     "ename": "SyntaxError",
     "evalue": "invalid syntax (1226878358.py, line 1)",
     "output_type": "error",
     "traceback": [
      "\u001b[0;36m  Cell \u001b[0;32mIn [74], line 1\u001b[0;36m\u001b[0m\n\u001b[0;31m    tpl =\u001b[0m\n\u001b[0m         ^\u001b[0m\n\u001b[0;31mSyntaxError\u001b[0m\u001b[0;31m:\u001b[0m invalid syntax\n"
     ]
    }
   ],
   "source": [
    "tpl ="
   ]
  },
  {
   "cell_type": "code",
   "execution_count": 75,
   "id": "cb55f849",
   "metadata": {
    "scrolled": false
   },
   "outputs": [
    {
     "name": "stdout",
     "output_type": "stream",
     "text": [
      "\n"
     ]
    }
   ],
   "source": [
    "print()"
   ]
  },
  {
   "cell_type": "markdown",
   "id": "57647a63",
   "metadata": {},
   "source": [
    "### print the number 13 from you tuple"
   ]
  },
  {
   "cell_type": "code",
   "execution_count": 76,
   "id": "693d7a21",
   "metadata": {},
   "outputs": [
    {
     "name": "stdout",
     "output_type": "stream",
     "text": [
      "\n"
     ]
    }
   ],
   "source": [
    "print()"
   ]
  },
  {
   "cell_type": "markdown",
   "id": "b36b229c",
   "metadata": {},
   "source": [
    "### Append the number 16 to your tuple... ;) "
   ]
  },
  {
   "cell_type": "code",
   "execution_count": 77,
   "id": "f05b3657",
   "metadata": {
    "scrolled": true
   },
   "outputs": [
    {
     "ename": "NameError",
     "evalue": "name 'tpl' is not defined",
     "output_type": "error",
     "traceback": [
      "\u001b[0;31m---------------------------------------------------------------------------\u001b[0m",
      "\u001b[0;31mNameError\u001b[0m                                 Traceback (most recent call last)",
      "Cell \u001b[0;32mIn [77], line 1\u001b[0m\n\u001b[0;32m----> 1\u001b[0m tpl\u001b[38;5;241m.\u001b[39mappend()\n",
      "\u001b[0;31mNameError\u001b[0m: name 'tpl' is not defined"
     ]
    }
   ],
   "source": [
    "tpl.append()"
   ]
  },
  {
   "cell_type": "markdown",
   "id": "492157af",
   "metadata": {},
   "source": [
    "# More Complex ideas"
   ]
  },
  {
   "cell_type": "markdown",
   "id": "db3fed15",
   "metadata": {},
   "source": [
    "## Make a for Loop to print the numbers 1-25 to terminal"
   ]
  },
  {
   "cell_type": "code",
   "execution_count": 78,
   "id": "aebfcc78",
   "metadata": {},
   "outputs": [
    {
     "ename": "SyntaxError",
     "evalue": "invalid syntax (2788557460.py, line 1)",
     "output_type": "error",
     "traceback": [
      "\u001b[0;36m  Cell \u001b[0;32mIn [78], line 1\u001b[0;36m\u001b[0m\n\u001b[0;31m    for :\u001b[0m\n\u001b[0m        ^\u001b[0m\n\u001b[0;31mSyntaxError\u001b[0m\u001b[0;31m:\u001b[0m invalid syntax\n"
     ]
    }
   ],
   "source": [
    "for :\n"
   ]
  },
  {
   "cell_type": "markdown",
   "id": "6952a68a",
   "metadata": {},
   "source": [
    "## Make a for loop to store the values 1-5 in a new list you create called myList"
   ]
  },
  {
   "cell_type": "code",
   "execution_count": 79,
   "id": "9927db83",
   "metadata": {},
   "outputs": [
    {
     "ename": "SyntaxError",
     "evalue": "invalid syntax (969790212.py, line 1)",
     "output_type": "error",
     "traceback": [
      "\u001b[0;36m  Cell \u001b[0;32mIn [79], line 1\u001b[0;36m\u001b[0m\n\u001b[0;31m    myList =\u001b[0m\n\u001b[0m             ^\u001b[0m\n\u001b[0;31mSyntaxError\u001b[0m\u001b[0;31m:\u001b[0m invalid syntax\n"
     ]
    }
   ],
   "source": [
    "myList = \n",
    "for :"
   ]
  },
  {
   "cell_type": "markdown",
   "id": "c9efbe21",
   "metadata": {},
   "source": [
    "## CHALLENGE PROBLEM:  Use a nested for  loop to print the sum of each element in myList and the number 3-13. For example, the first pass through the loop should print 4,5,6,7,8,9,...14, the second pass should print 5,6,7,8,9...15"
   ]
  },
  {
   "cell_type": "code",
   "execution_count": 80,
   "id": "6caa2eb9",
   "metadata": {},
   "outputs": [
    {
     "ename": "SyntaxError",
     "evalue": "invalid syntax (197435571.py, line 1)",
     "output_type": "error",
     "traceback": [
      "\u001b[0;36m  Cell \u001b[0;32mIn [80], line 1\u001b[0;36m\u001b[0m\n\u001b[0;31m    for :\u001b[0m\n\u001b[0m        ^\u001b[0m\n\u001b[0;31mSyntaxError\u001b[0m\u001b[0;31m:\u001b[0m invalid syntax\n"
     ]
    }
   ],
   "source": [
    "for :\n",
    "    for:\n",
    "        print()"
   ]
  },
  {
   "cell_type": "markdown",
   "id": "3a8c1918",
   "metadata": {},
   "source": [
    "## If / else statements "
   ]
  },
  {
   "cell_type": "code",
   "execution_count": 81,
   "id": "c52b5237",
   "metadata": {},
   "outputs": [],
   "source": [
    "fruit1 = 'apple'\n",
    "fruit2 = 'pear'\n",
    "car1 = 'honda'\n",
    "car2 = 'toyota'\n",
    "car3 = 'chevy'\n",
    "chips = 'lays'\n",
    "sandwich = 'ham'\n",
    "side = 'potato salad'\n",
    "drink = 'rum'\n",
    "items = [fruit1, fruit2, car1, car2, car3, chips, sandwich, side, drink]"
   ]
  },
  {
   "cell_type": "markdown",
   "id": "d610f7a9",
   "metadata": {},
   "source": [
    "## Use if, elif, and else statements to sort all of the stuff in list Items into the relevant lists 'cars' and 'food'"
   ]
  },
  {
   "cell_type": "code",
   "execution_count": 82,
   "id": "18cae834",
   "metadata": {},
   "outputs": [
    {
     "ename": "SyntaxError",
     "evalue": "unexpected EOF while parsing (2549095729.py, line 3)",
     "output_type": "error",
     "traceback": [
      "\u001b[0;36m  Cell \u001b[0;32mIn [82], line 3\u001b[0;36m\u001b[0m\n\u001b[0;31m    for item in items:\u001b[0m\n\u001b[0m                      ^\u001b[0m\n\u001b[0;31mSyntaxError\u001b[0m\u001b[0;31m:\u001b[0m unexpected EOF while parsing\n"
     ]
    }
   ],
   "source": [
    "cars = []\n",
    "food = []\n",
    "for item in items:\n"
   ]
  },
  {
   "cell_type": "code",
   "execution_count": 83,
   "id": "456cf05e",
   "metadata": {},
   "outputs": [
    {
     "ename": "NameError",
     "evalue": "name 'cars' is not defined",
     "output_type": "error",
     "traceback": [
      "\u001b[0;31m---------------------------------------------------------------------------\u001b[0m",
      "\u001b[0;31mNameError\u001b[0m                                 Traceback (most recent call last)",
      "Cell \u001b[0;32mIn [83], line 1\u001b[0m\n\u001b[0;32m----> 1\u001b[0m \u001b[38;5;28mprint\u001b[39m(cars)\n\u001b[1;32m      2\u001b[0m \u001b[38;5;28mprint\u001b[39m(food)\n",
      "\u001b[0;31mNameError\u001b[0m: name 'cars' is not defined"
     ]
    }
   ],
   "source": [
    "print(cars)\n",
    "print(food)"
   ]
  },
  {
   "cell_type": "markdown",
   "id": "d63889fb",
   "metadata": {},
   "source": [
    "## Set x equal to 20. Append x to list storage while x is greater than 5. Print storage after "
   ]
  },
  {
   "cell_type": "code",
   "execution_count": 84,
   "id": "51a37d65",
   "metadata": {},
   "outputs": [
    {
     "ename": "SyntaxError",
     "evalue": "invalid syntax (669969259.py, line 1)",
     "output_type": "error",
     "traceback": [
      "\u001b[0;36m  Cell \u001b[0;32mIn [84], line 1\u001b[0;36m\u001b[0m\n\u001b[0;31m    x =\u001b[0m\n\u001b[0m        ^\u001b[0m\n\u001b[0;31mSyntaxError\u001b[0m\u001b[0;31m:\u001b[0m invalid syntax\n"
     ]
    }
   ],
   "source": [
    "x = \n",
    "storage = \n",
    "while :\n"
   ]
  },
  {
   "cell_type": "markdown",
   "id": "e7d9fe82",
   "metadata": {},
   "source": [
    "## Make and print a new list containing all of values from lst that are equal to 3 or 5 using list comprehension"
   ]
  },
  {
   "cell_type": "code",
   "execution_count": 85,
   "id": "ffe473be",
   "metadata": {},
   "outputs": [
    {
     "name": "stdout",
     "output_type": "stream",
     "text": [
      "[]\n"
     ]
    }
   ],
   "source": [
    "lst = [0,1,2,3,4,5,6,7,8,9,10]\n",
    "new_list = []\n",
    "print(new_list)"
   ]
  },
  {
   "cell_type": "code",
   "execution_count": null,
   "id": "ede82241",
   "metadata": {},
   "outputs": [],
   "source": []
  },
  {
   "cell_type": "code",
   "execution_count": null,
   "id": "a548d8a0",
   "metadata": {},
   "outputs": [],
   "source": []
  }
 ],
 "metadata": {
  "kernelspec": {
   "display_name": "Python 3 (ipykernel)",
   "language": "python",
   "name": "python3"
  },
  "language_info": {
   "codemirror_mode": {
    "name": "ipython",
    "version": 3
   },
   "file_extension": ".py",
   "mimetype": "text/x-python",
   "name": "python",
   "nbconvert_exporter": "python",
   "pygments_lexer": "ipython3",
   "version": "3.8.13"
  }
 },
 "nbformat": 4,
 "nbformat_minor": 5
}
